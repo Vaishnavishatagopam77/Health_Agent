{
  "nbformat": 4,
  "nbformat_minor": 0,
  "metadata": {
    "colab": {
      "provenance": []
    },
    "kernelspec": {
      "name": "python3",
      "display_name": "Python 3"
    },
    "language_info": {
      "name": "python"
    }
  },
  "cells": [
    {
      "cell_type": "markdown",
      "source": [
        "API KEY:"
      ],
      "metadata": {
        "id": "m6dE-fIEipaI"
      }
    },
    {
      "cell_type": "markdown",
      "source": [
        "ApiKey-e4bfeab5-4b4c-468e-b56e-38d57d73a5ea"
      ],
      "metadata": {
        "id": "jKBBXTVMihCX"
      }
    },
    {
      "cell_type": "code",
      "source": [
        "import requests\n",
        "\n",
        "# NOTE: you must manually set API_KEY below using information retrieved from your IBM Cloud account (https://eu-gb.dataplatform.cloud.ibm.com/docs/content/wsj/analyze-data/ml-authentication.html?context=wx)\n",
        "API_KEY = \"<your API key>\"\n",
        "token_response = requests.post('https://iam.cloud.ibm.com/identity/token', data={\"apikey\": API_KEY, \"grant_type\": 'urn:ibm:params:oauth:grant-type:apikey'})\n",
        "mltoken = token_response.json()[\"access_token\"]\n",
        "\n",
        "header = {'Content-Type': 'application/json', 'Authorization': 'Bearer ' + mltoken}\n",
        "\n",
        "# NOTE:  manually define and pass the array(s) of values to be scored in the next line\n",
        "payload_scoring = {\"messages\":[{\"content\":\"\",\"role\":\"\"}]}\n",
        "\n",
        "response_scoring = requests.post('https://eu-gb.ml.cloud.ibm.com/ml/v4/deployments/a22fa2a8-55bf-4f68-8c17-4376106b475d/ai_service_stream?version=2021-05-01', json=payload_scoring,\n",
        " headers={'Authorization': 'Bearer ' + mltoken})\n",
        "\n",
        "print(\"Scoring response\")\n",
        "try:\n",
        "    print(response_scoring.json())\n",
        "except ValueError:\n",
        "    print(response_scoring.text)\n",
        "except Exception as e:\n",
        "    print(f\"An unexpected error occurred: {e}\")\n",
        "\n"
      ],
      "metadata": {
        "id": "oLKWRgtHixdN"
      },
      "execution_count": null,
      "outputs": []
    }
  ]
}